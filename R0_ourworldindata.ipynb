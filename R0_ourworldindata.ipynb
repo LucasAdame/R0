{
 "cells": [
  {
   "cell_type": "code",
   "execution_count": 1,
   "id": "cf8b9529-1759-46ca-93e0-378016f34ee6",
   "metadata": {},
   "outputs": [],
   "source": [
    "import numpy as np\n",
    "import matplotlib.pyplot as plt\n",
    "import pandas as pd\n",
    "import math as math\n",
    "from datetime import datetime\n",
    "from scipy.integrate import solve_ivp\n"
   ]
  },
  {
   "cell_type": "code",
   "execution_count": 2,
   "id": "e436718e-37e6-465f-a1e7-89126ba205fd",
   "metadata": {},
   "outputs": [
    {
     "data": {
      "text/html": [
       "<div>\n",
       "<style scoped>\n",
       "    .dataframe tbody tr th:only-of-type {\n",
       "        vertical-align: middle;\n",
       "    }\n",
       "\n",
       "    .dataframe tbody tr th {\n",
       "        vertical-align: top;\n",
       "    }\n",
       "\n",
       "    .dataframe thead th {\n",
       "        text-align: right;\n",
       "    }\n",
       "</style>\n",
       "<table border=\"1\" class=\"dataframe\">\n",
       "  <thead>\n",
       "    <tr style=\"text-align: right;\">\n",
       "      <th></th>\n",
       "      <th>iso_code</th>\n",
       "      <th>continent</th>\n",
       "      <th>location</th>\n",
       "      <th>date</th>\n",
       "      <th>total_cases</th>\n",
       "      <th>new_cases</th>\n",
       "      <th>new_cases_smoothed</th>\n",
       "      <th>total_deaths</th>\n",
       "      <th>new_deaths</th>\n",
       "      <th>new_deaths_smoothed</th>\n",
       "      <th>...</th>\n",
       "      <th>gdp_per_capita</th>\n",
       "      <th>extreme_poverty</th>\n",
       "      <th>cardiovasc_death_rate</th>\n",
       "      <th>diabetes_prevalence</th>\n",
       "      <th>female_smokers</th>\n",
       "      <th>male_smokers</th>\n",
       "      <th>handwashing_facilities</th>\n",
       "      <th>hospital_beds_per_thousand</th>\n",
       "      <th>life_expectancy</th>\n",
       "      <th>human_development_index</th>\n",
       "    </tr>\n",
       "  </thead>\n",
       "  <tbody>\n",
       "    <tr>\n",
       "      <th>0</th>\n",
       "      <td>AFG</td>\n",
       "      <td>Asia</td>\n",
       "      <td>Afghanistan</td>\n",
       "      <td>2020-02-24</td>\n",
       "      <td>1.0</td>\n",
       "      <td>1.0</td>\n",
       "      <td>NaN</td>\n",
       "      <td>NaN</td>\n",
       "      <td>NaN</td>\n",
       "      <td>NaN</td>\n",
       "      <td>...</td>\n",
       "      <td>1803.987</td>\n",
       "      <td>NaN</td>\n",
       "      <td>597.029</td>\n",
       "      <td>9.59</td>\n",
       "      <td>NaN</td>\n",
       "      <td>NaN</td>\n",
       "      <td>37.746</td>\n",
       "      <td>0.5</td>\n",
       "      <td>64.83</td>\n",
       "      <td>0.511</td>\n",
       "    </tr>\n",
       "    <tr>\n",
       "      <th>1</th>\n",
       "      <td>AFG</td>\n",
       "      <td>Asia</td>\n",
       "      <td>Afghanistan</td>\n",
       "      <td>2020-02-25</td>\n",
       "      <td>1.0</td>\n",
       "      <td>0.0</td>\n",
       "      <td>NaN</td>\n",
       "      <td>NaN</td>\n",
       "      <td>NaN</td>\n",
       "      <td>NaN</td>\n",
       "      <td>...</td>\n",
       "      <td>1803.987</td>\n",
       "      <td>NaN</td>\n",
       "      <td>597.029</td>\n",
       "      <td>9.59</td>\n",
       "      <td>NaN</td>\n",
       "      <td>NaN</td>\n",
       "      <td>37.746</td>\n",
       "      <td>0.5</td>\n",
       "      <td>64.83</td>\n",
       "      <td>0.511</td>\n",
       "    </tr>\n",
       "    <tr>\n",
       "      <th>2</th>\n",
       "      <td>AFG</td>\n",
       "      <td>Asia</td>\n",
       "      <td>Afghanistan</td>\n",
       "      <td>2020-02-26</td>\n",
       "      <td>1.0</td>\n",
       "      <td>0.0</td>\n",
       "      <td>NaN</td>\n",
       "      <td>NaN</td>\n",
       "      <td>NaN</td>\n",
       "      <td>NaN</td>\n",
       "      <td>...</td>\n",
       "      <td>1803.987</td>\n",
       "      <td>NaN</td>\n",
       "      <td>597.029</td>\n",
       "      <td>9.59</td>\n",
       "      <td>NaN</td>\n",
       "      <td>NaN</td>\n",
       "      <td>37.746</td>\n",
       "      <td>0.5</td>\n",
       "      <td>64.83</td>\n",
       "      <td>0.511</td>\n",
       "    </tr>\n",
       "    <tr>\n",
       "      <th>3</th>\n",
       "      <td>AFG</td>\n",
       "      <td>Asia</td>\n",
       "      <td>Afghanistan</td>\n",
       "      <td>2020-02-27</td>\n",
       "      <td>1.0</td>\n",
       "      <td>0.0</td>\n",
       "      <td>NaN</td>\n",
       "      <td>NaN</td>\n",
       "      <td>NaN</td>\n",
       "      <td>NaN</td>\n",
       "      <td>...</td>\n",
       "      <td>1803.987</td>\n",
       "      <td>NaN</td>\n",
       "      <td>597.029</td>\n",
       "      <td>9.59</td>\n",
       "      <td>NaN</td>\n",
       "      <td>NaN</td>\n",
       "      <td>37.746</td>\n",
       "      <td>0.5</td>\n",
       "      <td>64.83</td>\n",
       "      <td>0.511</td>\n",
       "    </tr>\n",
       "    <tr>\n",
       "      <th>4</th>\n",
       "      <td>AFG</td>\n",
       "      <td>Asia</td>\n",
       "      <td>Afghanistan</td>\n",
       "      <td>2020-02-28</td>\n",
       "      <td>1.0</td>\n",
       "      <td>0.0</td>\n",
       "      <td>NaN</td>\n",
       "      <td>NaN</td>\n",
       "      <td>NaN</td>\n",
       "      <td>NaN</td>\n",
       "      <td>...</td>\n",
       "      <td>1803.987</td>\n",
       "      <td>NaN</td>\n",
       "      <td>597.029</td>\n",
       "      <td>9.59</td>\n",
       "      <td>NaN</td>\n",
       "      <td>NaN</td>\n",
       "      <td>37.746</td>\n",
       "      <td>0.5</td>\n",
       "      <td>64.83</td>\n",
       "      <td>0.511</td>\n",
       "    </tr>\n",
       "    <tr>\n",
       "      <th>5</th>\n",
       "      <td>AFG</td>\n",
       "      <td>Asia</td>\n",
       "      <td>Afghanistan</td>\n",
       "      <td>2020-02-29</td>\n",
       "      <td>1.0</td>\n",
       "      <td>0.0</td>\n",
       "      <td>0.143</td>\n",
       "      <td>NaN</td>\n",
       "      <td>NaN</td>\n",
       "      <td>0.0</td>\n",
       "      <td>...</td>\n",
       "      <td>1803.987</td>\n",
       "      <td>NaN</td>\n",
       "      <td>597.029</td>\n",
       "      <td>9.59</td>\n",
       "      <td>NaN</td>\n",
       "      <td>NaN</td>\n",
       "      <td>37.746</td>\n",
       "      <td>0.5</td>\n",
       "      <td>64.83</td>\n",
       "      <td>0.511</td>\n",
       "    </tr>\n",
       "  </tbody>\n",
       "</table>\n",
       "<p>6 rows × 59 columns</p>\n",
       "</div>"
      ],
      "text/plain": [
       "  iso_code continent     location        date  total_cases  new_cases  \\\n",
       "0      AFG      Asia  Afghanistan  2020-02-24          1.0        1.0   \n",
       "1      AFG      Asia  Afghanistan  2020-02-25          1.0        0.0   \n",
       "2      AFG      Asia  Afghanistan  2020-02-26          1.0        0.0   \n",
       "3      AFG      Asia  Afghanistan  2020-02-27          1.0        0.0   \n",
       "4      AFG      Asia  Afghanistan  2020-02-28          1.0        0.0   \n",
       "5      AFG      Asia  Afghanistan  2020-02-29          1.0        0.0   \n",
       "\n",
       "   new_cases_smoothed  total_deaths  new_deaths  new_deaths_smoothed  ...  \\\n",
       "0                 NaN           NaN         NaN                  NaN  ...   \n",
       "1                 NaN           NaN         NaN                  NaN  ...   \n",
       "2                 NaN           NaN         NaN                  NaN  ...   \n",
       "3                 NaN           NaN         NaN                  NaN  ...   \n",
       "4                 NaN           NaN         NaN                  NaN  ...   \n",
       "5               0.143           NaN         NaN                  0.0  ...   \n",
       "\n",
       "   gdp_per_capita  extreme_poverty  cardiovasc_death_rate  \\\n",
       "0        1803.987              NaN                597.029   \n",
       "1        1803.987              NaN                597.029   \n",
       "2        1803.987              NaN                597.029   \n",
       "3        1803.987              NaN                597.029   \n",
       "4        1803.987              NaN                597.029   \n",
       "5        1803.987              NaN                597.029   \n",
       "\n",
       "   diabetes_prevalence  female_smokers  male_smokers  handwashing_facilities  \\\n",
       "0                 9.59             NaN           NaN                  37.746   \n",
       "1                 9.59             NaN           NaN                  37.746   \n",
       "2                 9.59             NaN           NaN                  37.746   \n",
       "3                 9.59             NaN           NaN                  37.746   \n",
       "4                 9.59             NaN           NaN                  37.746   \n",
       "5                 9.59             NaN           NaN                  37.746   \n",
       "\n",
       "   hospital_beds_per_thousand  life_expectancy  human_development_index  \n",
       "0                         0.5            64.83                    0.511  \n",
       "1                         0.5            64.83                    0.511  \n",
       "2                         0.5            64.83                    0.511  \n",
       "3                         0.5            64.83                    0.511  \n",
       "4                         0.5            64.83                    0.511  \n",
       "5                         0.5            64.83                    0.511  \n",
       "\n",
       "[6 rows x 59 columns]"
      ]
     },
     "execution_count": 2,
     "metadata": {},
     "output_type": "execute_result"
    }
   ],
   "source": [
    "df = pd.read_csv('Documents/Covid/Ourworldindata/owid-covid-data.csv', sep = ',')\n",
    "df.head(n=6)"
   ]
  },
  {
   "cell_type": "code",
   "execution_count": 3,
   "id": "48aa600a-e2fb-4304-ac2e-67fc1381626e",
   "metadata": {
    "tags": []
   },
   "outputs": [
    {
     "name": "stdout",
     "output_type": "stream",
     "text": [
      "<class 'pandas.core.frame.DataFrame'>\n",
      "RangeIndex: 89466 entries, 0 to 89465\n",
      "Data columns (total 59 columns):\n",
      " #   Column                                 Non-Null Count  Dtype  \n",
      "---  ------                                 --------------  -----  \n",
      " 0   iso_code                               89466 non-null  object \n",
      " 1   continent                              84692 non-null  object \n",
      " 2   location                               89466 non-null  object \n",
      " 3   date                                   89466 non-null  object \n",
      " 4   total_cases                            86057 non-null  float64\n",
      " 5   new_cases                              86055 non-null  float64\n",
      " 6   new_cases_smoothed                     85054 non-null  float64\n",
      " 7   total_deaths                           76280 non-null  float64\n",
      " 8   new_deaths                             76438 non-null  float64\n",
      " 9   new_deaths_smoothed                    85054 non-null  float64\n",
      " 10  total_cases_per_million                85593 non-null  float64\n",
      " 11  new_cases_per_million                  85591 non-null  float64\n",
      " 12  new_cases_smoothed_per_million         84595 non-null  float64\n",
      " 13  total_deaths_per_million               75829 non-null  float64\n",
      " 14  new_deaths_per_million                 75987 non-null  float64\n",
      " 15  new_deaths_smoothed_per_million        84595 non-null  float64\n",
      " 16  reproduction_rate                      71308 non-null  float64\n",
      " 17  icu_patients                           9011 non-null   float64\n",
      " 18  icu_patients_per_million               9011 non-null   float64\n",
      " 19  hosp_patients                          11223 non-null  float64\n",
      " 20  hosp_patients_per_million              11223 non-null  float64\n",
      " 21  weekly_icu_admissions                  816 non-null    float64\n",
      " 22  weekly_icu_admissions_per_million      816 non-null    float64\n",
      " 23  weekly_hosp_admissions                 1415 non-null   float64\n",
      " 24  weekly_hosp_admissions_per_million     1415 non-null   float64\n",
      " 25  new_tests                              40281 non-null  float64\n",
      " 26  total_tests                            39969 non-null  float64\n",
      " 27  total_tests_per_thousand               39969 non-null  float64\n",
      " 28  new_tests_per_thousand                 40281 non-null  float64\n",
      " 29  new_tests_smoothed                     46583 non-null  float64\n",
      " 30  new_tests_smoothed_per_thousand        46583 non-null  float64\n",
      " 31  positive_rate                          43378 non-null  float64\n",
      " 32  tests_per_case                         42784 non-null  float64\n",
      " 33  tests_units                            48068 non-null  object \n",
      " 34  total_vaccinations                     11573 non-null  float64\n",
      " 35  people_vaccinated                      10835 non-null  float64\n",
      " 36  people_fully_vaccinated                8251 non-null   float64\n",
      " 37  new_vaccinations                       9852 non-null   float64\n",
      " 38  new_vaccinations_smoothed              18776 non-null  float64\n",
      " 39  total_vaccinations_per_hundred         11573 non-null  float64\n",
      " 40  people_vaccinated_per_hundred          10835 non-null  float64\n",
      " 41  people_fully_vaccinated_per_hundred    8251 non-null   float64\n",
      " 42  new_vaccinations_smoothed_per_million  18776 non-null  float64\n",
      " 43  stringency_index                       75103 non-null  float64\n",
      " 44  population                             88881 non-null  float64\n",
      " 45  population_density                     82796 non-null  float64\n",
      " 46  median_age                             80049 non-null  float64\n",
      " 47  aged_65_older                          79143 non-null  float64\n",
      " 48  aged_70_older                          79604 non-null  float64\n",
      " 49  gdp_per_capita                         80238 non-null  float64\n",
      " 50  extreme_poverty                        54353 non-null  float64\n",
      " 51  cardiovasc_death_rate                  80478 non-null  float64\n",
      " 52  diabetes_prevalence                    82242 non-null  float64\n",
      " 53  female_smokers                         63025 non-null  float64\n",
      " 54  male_smokers                           62098 non-null  float64\n",
      " 55  handwashing_facilities                 40433 non-null  float64\n",
      " 56  hospital_beds_per_thousand             73405 non-null  float64\n",
      " 57  life_expectancy                        84452 non-null  float64\n",
      " 58  human_development_index                80661 non-null  float64\n",
      "dtypes: float64(54), object(5)\n",
      "memory usage: 40.3+ MB\n"
     ]
    }
   ],
   "source": [
    "df.info()"
   ]
  },
  {
   "cell_type": "code",
   "execution_count": 4,
   "id": "b889a350-450c-46e5-8d7f-a8e786213a9f",
   "metadata": {},
   "outputs": [],
   "source": [
    "df['date'] = pd.to_datetime(df['date'], format = '%Y-%m-%d')"
   ]
  },
  {
   "cell_type": "code",
   "execution_count": 5,
   "id": "a6a25c8c-4adf-4638-ad66-d11d89a5b876",
   "metadata": {},
   "outputs": [
    {
     "data": {
      "text/plain": [
       "date\n",
       "2021-01-07    2867056.0\n",
       "2021-04-28    2852389.0\n",
       "2021-04-22    2850880.0\n",
       "2021-04-23    2848692.0\n",
       "2021-04-21    2823348.0\n",
       "                ...    \n",
       "2020-01-19          0.0\n",
       "2020-01-20          0.0\n",
       "2020-01-21          0.0\n",
       "2020-01-22          0.0\n",
       "2020-01-01          0.0\n",
       "Name: new_cases, Length: 501, dtype: float64"
      ]
     },
     "execution_count": 5,
     "metadata": {},
     "output_type": "execute_result"
    }
   ],
   "source": [
    "df.groupby(df['date'].dt.strftime('%Y-%m-%d'))['new_cases'].sum().sort_values(ascending=False)"
   ]
  },
  {
   "cell_type": "code",
   "execution_count": 6,
   "id": "f0970353-36fb-437b-830d-6183cb718c69",
   "metadata": {},
   "outputs": [
    {
     "data": {
      "text/plain": [
       "<AxesSubplot:xlabel='date'>"
      ]
     },
     "execution_count": 6,
     "metadata": {},
     "output_type": "execute_result"
    },
    {
     "data": {
      "image/png": "[encoded data removed]",
      "text/plain": [
       "<Figure size 432x288 with 1 Axes>"
      ]
     },
     "metadata": {
      "needs_background": "light"
     },
     "output_type": "display_data"
    }
   ],
   "source": [
    "df[df.location == \"United Kingdom\"].plot(x=\"date\", y=\"new_cases\")"
   ]
  },
  {
   "cell_type": "code",
   "execution_count": 7,
   "id": "6a1aca56-1224-44d1-8104-b0066f0af2a9",
   "metadata": {},
   "outputs": [
    {
     "data": {
      "text/html": [
       "<div>\n",
       "<style scoped>\n",
       "    .dataframe tbody tr th:only-of-type {\n",
       "        vertical-align: middle;\n",
       "    }\n",
       "\n",
       "    .dataframe tbody tr th {\n",
       "        vertical-align: top;\n",
       "    }\n",
       "\n",
       "    .dataframe thead th {\n",
       "        text-align: right;\n",
       "    }\n",
       "</style>\n",
       "<table border=\"1\" class=\"dataframe\">\n",
       "  <thead>\n",
       "    <tr style=\"text-align: right;\">\n",
       "      <th></th>\n",
       "      <th>iso_code</th>\n",
       "      <th>continent</th>\n",
       "      <th>location</th>\n",
       "      <th>date</th>\n",
       "      <th>total_cases</th>\n",
       "      <th>new_cases</th>\n",
       "      <th>new_cases_smoothed</th>\n",
       "      <th>total_deaths</th>\n",
       "      <th>new_deaths</th>\n",
       "      <th>new_deaths_smoothed</th>\n",
       "      <th>...</th>\n",
       "      <th>gdp_per_capita</th>\n",
       "      <th>extreme_poverty</th>\n",
       "      <th>cardiovasc_death_rate</th>\n",
       "      <th>diabetes_prevalence</th>\n",
       "      <th>female_smokers</th>\n",
       "      <th>male_smokers</th>\n",
       "      <th>handwashing_facilities</th>\n",
       "      <th>hospital_beds_per_thousand</th>\n",
       "      <th>life_expectancy</th>\n",
       "      <th>human_development_index</th>\n",
       "    </tr>\n",
       "  </thead>\n",
       "  <tbody>\n",
       "    <tr>\n",
       "      <th>84200</th>\n",
       "      <td>GBR</td>\n",
       "      <td>Europe</td>\n",
       "      <td>United Kingdom</td>\n",
       "      <td>2020-01-31</td>\n",
       "      <td>2.0</td>\n",
       "      <td>2.0</td>\n",
       "      <td>NaN</td>\n",
       "      <td>NaN</td>\n",
       "      <td>NaN</td>\n",
       "      <td>NaN</td>\n",
       "      <td>...</td>\n",
       "      <td>39753.244</td>\n",
       "      <td>0.2</td>\n",
       "      <td>122.137</td>\n",
       "      <td>4.28</td>\n",
       "      <td>20.0</td>\n",
       "      <td>24.7</td>\n",
       "      <td>NaN</td>\n",
       "      <td>2.54</td>\n",
       "      <td>81.32</td>\n",
       "      <td>0.932</td>\n",
       "    </tr>\n",
       "    <tr>\n",
       "      <th>84201</th>\n",
       "      <td>GBR</td>\n",
       "      <td>Europe</td>\n",
       "      <td>United Kingdom</td>\n",
       "      <td>2020-02-01</td>\n",
       "      <td>2.0</td>\n",
       "      <td>0.0</td>\n",
       "      <td>NaN</td>\n",
       "      <td>NaN</td>\n",
       "      <td>NaN</td>\n",
       "      <td>NaN</td>\n",
       "      <td>...</td>\n",
       "      <td>39753.244</td>\n",
       "      <td>0.2</td>\n",
       "      <td>122.137</td>\n",
       "      <td>4.28</td>\n",
       "      <td>20.0</td>\n",
       "      <td>24.7</td>\n",
       "      <td>NaN</td>\n",
       "      <td>2.54</td>\n",
       "      <td>81.32</td>\n",
       "      <td>0.932</td>\n",
       "    </tr>\n",
       "    <tr>\n",
       "      <th>84202</th>\n",
       "      <td>GBR</td>\n",
       "      <td>Europe</td>\n",
       "      <td>United Kingdom</td>\n",
       "      <td>2020-02-02</td>\n",
       "      <td>2.0</td>\n",
       "      <td>0.0</td>\n",
       "      <td>NaN</td>\n",
       "      <td>NaN</td>\n",
       "      <td>NaN</td>\n",
       "      <td>NaN</td>\n",
       "      <td>...</td>\n",
       "      <td>39753.244</td>\n",
       "      <td>0.2</td>\n",
       "      <td>122.137</td>\n",
       "      <td>4.28</td>\n",
       "      <td>20.0</td>\n",
       "      <td>24.7</td>\n",
       "      <td>NaN</td>\n",
       "      <td>2.54</td>\n",
       "      <td>81.32</td>\n",
       "      <td>0.932</td>\n",
       "    </tr>\n",
       "    <tr>\n",
       "      <th>84203</th>\n",
       "      <td>GBR</td>\n",
       "      <td>Europe</td>\n",
       "      <td>United Kingdom</td>\n",
       "      <td>2020-02-03</td>\n",
       "      <td>8.0</td>\n",
       "      <td>6.0</td>\n",
       "      <td>NaN</td>\n",
       "      <td>NaN</td>\n",
       "      <td>NaN</td>\n",
       "      <td>NaN</td>\n",
       "      <td>...</td>\n",
       "      <td>39753.244</td>\n",
       "      <td>0.2</td>\n",
       "      <td>122.137</td>\n",
       "      <td>4.28</td>\n",
       "      <td>20.0</td>\n",
       "      <td>24.7</td>\n",
       "      <td>NaN</td>\n",
       "      <td>2.54</td>\n",
       "      <td>81.32</td>\n",
       "      <td>0.932</td>\n",
       "    </tr>\n",
       "    <tr>\n",
       "      <th>84204</th>\n",
       "      <td>GBR</td>\n",
       "      <td>Europe</td>\n",
       "      <td>United Kingdom</td>\n",
       "      <td>2020-02-04</td>\n",
       "      <td>8.0</td>\n",
       "      <td>0.0</td>\n",
       "      <td>NaN</td>\n",
       "      <td>NaN</td>\n",
       "      <td>NaN</td>\n",
       "      <td>NaN</td>\n",
       "      <td>...</td>\n",
       "      <td>39753.244</td>\n",
       "      <td>0.2</td>\n",
       "      <td>122.137</td>\n",
       "      <td>4.28</td>\n",
       "      <td>20.0</td>\n",
       "      <td>24.7</td>\n",
       "      <td>NaN</td>\n",
       "      <td>2.54</td>\n",
       "      <td>81.32</td>\n",
       "      <td>0.932</td>\n",
       "    </tr>\n",
       "  </tbody>\n",
       "</table>\n",
       "<p>5 rows × 59 columns</p>\n",
       "</div>"
      ],
      "text/plain": [
       "      iso_code continent        location       date  total_cases  new_cases  \\\n",
       "84200      GBR    Europe  United Kingdom 2020-01-31          2.0        2.0   \n",
       "84201      GBR    Europe  United Kingdom 2020-02-01          2.0        0.0   \n",
       "84202      GBR    Europe  United Kingdom 2020-02-02          2.0        0.0   \n",
       "84203      GBR    Europe  United Kingdom 2020-02-03          8.0        6.0   \n",
       "84204      GBR    Europe  United Kingdom 2020-02-04          8.0        0.0   \n",
       "\n",
       "       new_cases_smoothed  total_deaths  new_deaths  new_deaths_smoothed  ...  \\\n",
       "84200                 NaN           NaN         NaN                  NaN  ...   \n",
       "84201                 NaN           NaN         NaN                  NaN  ...   \n",
       "84202                 NaN           NaN         NaN                  NaN  ...   \n",
       "84203                 NaN           NaN         NaN                  NaN  ...   \n",
       "84204                 NaN           NaN         NaN                  NaN  ...   \n",
       "\n",
       "       gdp_per_capita  extreme_poverty  cardiovasc_death_rate  \\\n",
       "84200       39753.244              0.2                122.137   \n",
       "84201       39753.244              0.2                122.137   \n",
       "84202       39753.244              0.2                122.137   \n",
       "84203       39753.244              0.2                122.137   \n",
       "84204       39753.244              0.2                122.137   \n",
       "\n",
       "       diabetes_prevalence  female_smokers  male_smokers  \\\n",
       "84200                 4.28            20.0          24.7   \n",
       "84201                 4.28            20.0          24.7   \n",
       "84202                 4.28            20.0          24.7   \n",
       "84203                 4.28            20.0          24.7   \n",
       "84204                 4.28            20.0          24.7   \n",
       "\n",
       "       handwashing_facilities  hospital_beds_per_thousand  life_expectancy  \\\n",
       "84200                     NaN                        2.54            81.32   \n",
       "84201                     NaN                        2.54            81.32   \n",
       "84202                     NaN                        2.54            81.32   \n",
       "84203                     NaN                        2.54            81.32   \n",
       "84204                     NaN                        2.54            81.32   \n",
       "\n",
       "       human_development_index  \n",
       "84200                    0.932  \n",
       "84201                    0.932  \n",
       "84202                    0.932  \n",
       "84203                    0.932  \n",
       "84204                    0.932  \n",
       "\n",
       "[5 rows x 59 columns]"
      ]
     },
     "execution_count": 7,
     "metadata": {},
     "output_type": "execute_result"
    }
   ],
   "source": [
    "uk_df = df[df.location == \"United Kingdom\"].copy()\n",
    "uk_df.head(5)\n"
   ]
  },
  {
   "cell_type": "code",
   "execution_count": 8,
   "id": "3eadc4a9-24f4-4701-968f-3654a7c9b610",
   "metadata": {},
   "outputs": [],
   "source": [
    "uk_df[\"media7dias\"] = uk_df[\"new_cases\"].rolling(14).sum()\n",
    "fity = [0]*len(uk_df[\"media7dias\"])"
   ]
  },
  {
   "cell_type": "code",
   "execution_count": 9,
   "id": "07f1e27f-a297-4830-8167-1688e8837534",
   "metadata": {},
   "outputs": [],
   "source": [
    "uk_df.index = range(0, len(uk_df[\"location\"]), 1)\n",
    "uk_df.tail(1)\n",
    "\n",
    "for i in range(0, len(uk_df[\"media7dias\"])):\n",
    "    fity[i] = math.log(uk_df[\"media7dias\"][i])\n",
    "\n",
    "#len(uk_df[\"location\"])"
   ]
  },
  {
   "cell_type": "code",
   "execution_count": 10,
   "id": "8bd15d50-54c4-4600-8f43-5bbcddcd5ae1",
   "metadata": {},
   "outputs": [
    {
     "data": {
      "text/plain": [
       "<AxesSubplot:xlabel='date'>"
      ]
     },
     "execution_count": 10,
     "metadata": {},
     "output_type": "execute_result"
    },
    {
     "data": {
      "image/png": "[encoded data removed]",
      "text/plain": [
       "<Figure size 432x288 with 1 Axes>"
      ]
     },
     "metadata": {
      "needs_background": "light"
     },
     "output_type": "display_data"
    }
   ],
   "source": [
    "uk_df.plot(\"date\", \"media7dias\")"
   ]
  },
  {
   "cell_type": "code",
   "execution_count": 11,
   "id": "3564e838-836a-4c84-a8e0-dfcd06262c87",
   "metadata": {},
   "outputs": [
    {
     "name": "stdout",
     "output_type": "stream",
     "text": [
      "[ 0.05651649 12.45416603]\n",
      "R0 = 1.7912308510428707\n",
      "[ 0.04114951 13.12293472]\n",
      "R02 = 1.5760931184594418\n"
     ]
    },
    {
     "data": {
      "image/png": "[encoded data removed]",
      "text/plain": [
       "<Figure size 432x288 with 1 Axes>"
      ]
     },
     "metadata": {
      "needs_background": "light"
     },
     "output_type": "display_data"
    }
   ],
   "source": [
    "interval = np.linspace(0, 350-315, 350-315, endpoint = False)\n",
    "plt.scatter(interval, fity[315:350])\n",
    "plt.title('ln dos infectados nos ultimos 14 dias')\n",
    "plt.xlabel('data')\n",
    "\n",
    "\n",
    "y = fity[320:329]\n",
    "x = np.linspace(0, 329-320, 329-320, endpoint = False)\n",
    "fit = np.polyfit(x,y,1)\n",
    "print(fit)\n",
    "print('R0 =',fit[0]/(1/14)+1)\n",
    "\n",
    "plt.plot(x+5,np.poly1d(fit)(x),color=\"red\")\n",
    "z = fity[333:342]\n",
    "w = np.linspace(0, 342-333, 342-333, endpoint = False)\n",
    "fit2 = np.polyfit(w,z,1)\n",
    "print(fit2)\n",
    "print('R02 =',fit2[0]/(1/14)+1)\n",
    "\n",
    "plt.plot(w+18,np.poly1d(fit2)(w),color=\"purple\")\n",
    "\n",
    "plt.xticks(np.arange(0, 60, 12))\n",
    "plt.savefig('resultados_uk.png')\n",
    "plt.show()"
   ]
  },
  {
   "cell_type": "code",
   "execution_count": 12,
   "id": "d7ef819b-19bf-45f2-b1bd-5829a6a9d05c",
   "metadata": {},
   "outputs": [
    {
     "data": {
      "text/plain": [
       "<AxesSubplot:xlabel='date'>"
      ]
     },
     "execution_count": 12,
     "metadata": {},
     "output_type": "execute_result"
    },
    {
     "data": {
      "image/png": "[encoded data removed]",
      "text/plain": [
       "<Figure size 432x288 with 1 Axes>"
      ]
     },
     "metadata": {
      "needs_background": "light"
     },
     "output_type": "display_data"
    }
   ],
   "source": [
    "df[df.location == \"India\"].plot(x=\"date\", y=\"new_cases\")"
   ]
  },
  {
   "cell_type": "code",
   "execution_count": 13,
   "id": "02593195-f266-442b-a782-d57c3da849c3",
   "metadata": {},
   "outputs": [
    {
     "data": {
      "text/html": [
       "<div>\n",
       "<style scoped>\n",
       "    .dataframe tbody tr th:only-of-type {\n",
       "        vertical-align: middle;\n",
       "    }\n",
       "\n",
       "    .dataframe tbody tr th {\n",
       "        vertical-align: top;\n",
       "    }\n",
       "\n",
       "    .dataframe thead th {\n",
       "        text-align: right;\n",
       "    }\n",
       "</style>\n",
       "<table border=\"1\" class=\"dataframe\">\n",
       "  <thead>\n",
       "    <tr style=\"text-align: right;\">\n",
       "      <th></th>\n",
       "      <th>iso_code</th>\n",
       "      <th>continent</th>\n",
       "      <th>location</th>\n",
       "      <th>date</th>\n",
       "      <th>total_cases</th>\n",
       "      <th>new_cases</th>\n",
       "      <th>new_cases_smoothed</th>\n",
       "      <th>total_deaths</th>\n",
       "      <th>new_deaths</th>\n",
       "      <th>new_deaths_smoothed</th>\n",
       "      <th>...</th>\n",
       "      <th>gdp_per_capita</th>\n",
       "      <th>extreme_poverty</th>\n",
       "      <th>cardiovasc_death_rate</th>\n",
       "      <th>diabetes_prevalence</th>\n",
       "      <th>female_smokers</th>\n",
       "      <th>male_smokers</th>\n",
       "      <th>handwashing_facilities</th>\n",
       "      <th>hospital_beds_per_thousand</th>\n",
       "      <th>life_expectancy</th>\n",
       "      <th>human_development_index</th>\n",
       "    </tr>\n",
       "  </thead>\n",
       "  <tbody>\n",
       "    <tr>\n",
       "      <th>36964</th>\n",
       "      <td>IND</td>\n",
       "      <td>Asia</td>\n",
       "      <td>India</td>\n",
       "      <td>2020-01-30</td>\n",
       "      <td>1.0</td>\n",
       "      <td>1.0</td>\n",
       "      <td>NaN</td>\n",
       "      <td>NaN</td>\n",
       "      <td>NaN</td>\n",
       "      <td>NaN</td>\n",
       "      <td>...</td>\n",
       "      <td>6426.674</td>\n",
       "      <td>21.2</td>\n",
       "      <td>282.28</td>\n",
       "      <td>10.39</td>\n",
       "      <td>1.9</td>\n",
       "      <td>20.6</td>\n",
       "      <td>59.55</td>\n",
       "      <td>0.53</td>\n",
       "      <td>69.66</td>\n",
       "      <td>0.645</td>\n",
       "    </tr>\n",
       "    <tr>\n",
       "      <th>36965</th>\n",
       "      <td>IND</td>\n",
       "      <td>Asia</td>\n",
       "      <td>India</td>\n",
       "      <td>2020-01-31</td>\n",
       "      <td>1.0</td>\n",
       "      <td>0.0</td>\n",
       "      <td>NaN</td>\n",
       "      <td>NaN</td>\n",
       "      <td>NaN</td>\n",
       "      <td>NaN</td>\n",
       "      <td>...</td>\n",
       "      <td>6426.674</td>\n",
       "      <td>21.2</td>\n",
       "      <td>282.28</td>\n",
       "      <td>10.39</td>\n",
       "      <td>1.9</td>\n",
       "      <td>20.6</td>\n",
       "      <td>59.55</td>\n",
       "      <td>0.53</td>\n",
       "      <td>69.66</td>\n",
       "      <td>0.645</td>\n",
       "    </tr>\n",
       "    <tr>\n",
       "      <th>36966</th>\n",
       "      <td>IND</td>\n",
       "      <td>Asia</td>\n",
       "      <td>India</td>\n",
       "      <td>2020-02-01</td>\n",
       "      <td>1.0</td>\n",
       "      <td>0.0</td>\n",
       "      <td>NaN</td>\n",
       "      <td>NaN</td>\n",
       "      <td>NaN</td>\n",
       "      <td>NaN</td>\n",
       "      <td>...</td>\n",
       "      <td>6426.674</td>\n",
       "      <td>21.2</td>\n",
       "      <td>282.28</td>\n",
       "      <td>10.39</td>\n",
       "      <td>1.9</td>\n",
       "      <td>20.6</td>\n",
       "      <td>59.55</td>\n",
       "      <td>0.53</td>\n",
       "      <td>69.66</td>\n",
       "      <td>0.645</td>\n",
       "    </tr>\n",
       "    <tr>\n",
       "      <th>36967</th>\n",
       "      <td>IND</td>\n",
       "      <td>Asia</td>\n",
       "      <td>India</td>\n",
       "      <td>2020-02-02</td>\n",
       "      <td>2.0</td>\n",
       "      <td>1.0</td>\n",
       "      <td>NaN</td>\n",
       "      <td>NaN</td>\n",
       "      <td>NaN</td>\n",
       "      <td>NaN</td>\n",
       "      <td>...</td>\n",
       "      <td>6426.674</td>\n",
       "      <td>21.2</td>\n",
       "      <td>282.28</td>\n",
       "      <td>10.39</td>\n",
       "      <td>1.9</td>\n",
       "      <td>20.6</td>\n",
       "      <td>59.55</td>\n",
       "      <td>0.53</td>\n",
       "      <td>69.66</td>\n",
       "      <td>0.645</td>\n",
       "    </tr>\n",
       "    <tr>\n",
       "      <th>36968</th>\n",
       "      <td>IND</td>\n",
       "      <td>Asia</td>\n",
       "      <td>India</td>\n",
       "      <td>2020-02-03</td>\n",
       "      <td>3.0</td>\n",
       "      <td>1.0</td>\n",
       "      <td>NaN</td>\n",
       "      <td>NaN</td>\n",
       "      <td>NaN</td>\n",
       "      <td>NaN</td>\n",
       "      <td>...</td>\n",
       "      <td>6426.674</td>\n",
       "      <td>21.2</td>\n",
       "      <td>282.28</td>\n",
       "      <td>10.39</td>\n",
       "      <td>1.9</td>\n",
       "      <td>20.6</td>\n",
       "      <td>59.55</td>\n",
       "      <td>0.53</td>\n",
       "      <td>69.66</td>\n",
       "      <td>0.645</td>\n",
       "    </tr>\n",
       "  </tbody>\n",
       "</table>\n",
       "<p>5 rows × 59 columns</p>\n",
       "</div>"
      ],
      "text/plain": [
       "      iso_code continent location       date  total_cases  new_cases  \\\n",
       "36964      IND      Asia    India 2020-01-30          1.0        1.0   \n",
       "36965      IND      Asia    India 2020-01-31          1.0        0.0   \n",
       "36966      IND      Asia    India 2020-02-01          1.0        0.0   \n",
       "36967      IND      Asia    India 2020-02-02          2.0        1.0   \n",
       "36968      IND      Asia    India 2020-02-03          3.0        1.0   \n",
       "\n",
       "       new_cases_smoothed  total_deaths  new_deaths  new_deaths_smoothed  ...  \\\n",
       "36964                 NaN           NaN         NaN                  NaN  ...   \n",
       "36965                 NaN           NaN         NaN                  NaN  ...   \n",
       "36966                 NaN           NaN         NaN                  NaN  ...   \n",
       "36967                 NaN           NaN         NaN                  NaN  ...   \n",
       "36968                 NaN           NaN         NaN                  NaN  ...   \n",
       "\n",
       "       gdp_per_capita  extreme_poverty  cardiovasc_death_rate  \\\n",
       "36964        6426.674             21.2                 282.28   \n",
       "36965        6426.674             21.2                 282.28   \n",
       "36966        6426.674             21.2                 282.28   \n",
       "36967        6426.674             21.2                 282.28   \n",
       "36968        6426.674             21.2                 282.28   \n",
       "\n",
       "       diabetes_prevalence  female_smokers  male_smokers  \\\n",
       "36964                10.39             1.9          20.6   \n",
       "36965                10.39             1.9          20.6   \n",
       "36966                10.39             1.9          20.6   \n",
       "36967                10.39             1.9          20.6   \n",
       "36968                10.39             1.9          20.6   \n",
       "\n",
       "       handwashing_facilities  hospital_beds_per_thousand  life_expectancy  \\\n",
       "36964                   59.55                        0.53            69.66   \n",
       "36965                   59.55                        0.53            69.66   \n",
       "36966                   59.55                        0.53            69.66   \n",
       "36967                   59.55                        0.53            69.66   \n",
       "36968                   59.55                        0.53            69.66   \n",
       "\n",
       "       human_development_index  \n",
       "36964                    0.645  \n",
       "36965                    0.645  \n",
       "36966                    0.645  \n",
       "36967                    0.645  \n",
       "36968                    0.645  \n",
       "\n",
       "[5 rows x 59 columns]"
      ]
     },
     "execution_count": 13,
     "metadata": {},
     "output_type": "execute_result"
    }
   ],
   "source": [
    "in_df = df[df.location == \"India\"].copy()\n",
    "in_df.dropna()\n",
    "in_df.head(5)"
   ]
  },
  {
   "cell_type": "code",
   "execution_count": 14,
   "id": "b40f66e1-4443-4168-a7c8-7c34e25ed3e8",
   "metadata": {},
   "outputs": [],
   "source": [
    "in_df[\"media7dias\"] = in_df[\"new_cases\"].rolling(14).sum()\n",
    "fity2 = [0]*len(in_df[\"media7dias\"])\n",
    "\n"
   ]
  },
  {
   "cell_type": "code",
   "execution_count": 15,
   "id": "aaf1ca6c-8266-488e-a0c8-5ee0e5504da1",
   "metadata": {},
   "outputs": [],
   "source": [
    "in_df.index = range(0, len(in_df[\"location\"]), 1)\n",
    "in_df.tail(1)\n",
    "\n",
    "for i in range(0, len(in_df[\"media7dias\"])):\n",
    "    if(in_df[\"media7dias\"][i]>0):\n",
    "        fity2[i] = math.log(in_df[\"media7dias\"][i])"
   ]
  },
  {
   "cell_type": "code",
   "execution_count": 16,
   "id": "4c2a067b-713c-4eb5-9925-05ea06aa066f",
   "metadata": {},
   "outputs": [
    {
     "name": "stdout",
     "output_type": "stream",
     "text": [
      "472\n"
     ]
    },
    {
     "data": {
      "image/png": "[encoded data removed]",
      "text/plain": [
       "<Figure size 432x288 with 1 Axes>"
      ]
     },
     "metadata": {
      "needs_background": "light"
     },
     "output_type": "display_data"
    }
   ],
   "source": [
    "in_df.plot(\"date\", \"media7dias\")\n",
    "print(len(fity2))"
   ]
  },
  {
   "cell_type": "code",
   "execution_count": 17,
   "id": "288d15c4-49b5-4629-8ca3-eccdccc641f3",
   "metadata": {},
   "outputs": [
    {
     "name": "stdout",
     "output_type": "stream",
     "text": [
      "[ 0.06531481 12.60747616]\n",
      "R0 = 1.9144073641936157\n",
      "[ 0.07139666 14.00284461]\n",
      "R02 = 1.999553217756349\n"
     ]
    },
    {
     "data": {
      "image/png": "[encoded data removed]",
      "text/plain": [
       "<Figure size 432x288 with 1 Axes>"
      ]
     },
     "metadata": {
      "needs_background": "light"
     },
     "output_type": "display_data"
    }
   ],
   "source": [
    "interval = np.linspace(0, 470-410, 470-410, endpoint = False)\n",
    "plt.scatter(interval, fity2[410:470])\n",
    "plt.title('ln dos infectados nos ultimos 14 dias')\n",
    "plt.xlabel('data')\n",
    "\n",
    "\n",
    "y = fity2[411:423]\n",
    "x = np.linspace(0, 423-411, 423-411, endpoint = False)\n",
    "fit = np.polyfit(x,y,1)\n",
    "print(fit)\n",
    "print('R0 =',fit[0]/(1/14)+1)\n",
    "\n",
    "plt.plot(x+1,np.poly1d(fit)(x),color=\"red\")\n",
    "z = fity2[434:446]\n",
    "w = np.linspace(0, 446-434, 446-434, endpoint = False)\n",
    "fit2 = np.polyfit(w,z,1)\n",
    "print(fit2)\n",
    "print('R02 =',fit2[0]/(1/14)+1)\n",
    "\n",
    "plt.plot(w+24,np.poly1d(fit2)(w),color=\"purple\")\n",
    "\n",
    "#plt.xticks(np.arange(0, 60, 12))\n",
    "plt.savefig('resultados_in.png')\n",
    "plt.show()"
   ]
  },
  {
   "cell_type": "code",
   "execution_count": 18,
   "id": "b14ab5ea-84c9-4e45-8233-d424ee191dcf",
   "metadata": {},
   "outputs": [
    {
     "data": {
      "text/plain": [
       "<AxesSubplot:xlabel='date'>"
      ]
     },
     "execution_count": 18,
     "metadata": {},
     "output_type": "execute_result"
    },
    {
     "data": {
      "image/png": "[encoded data removed]",
      "text/plain": [
       "<Figure size 432x288 with 1 Axes>"
      ]
     },
     "metadata": {
      "needs_background": "light"
     },
     "output_type": "display_data"
    }
   ],
   "source": [
    "df[df.location == \"Portugal\"].plot(x=\"date\", y=\"new_cases\")"
   ]
  },
  {
   "cell_type": "code",
   "execution_count": 19,
   "id": "09df2a56-359a-4ea6-930f-6c04f4d0022e",
   "metadata": {},
   "outputs": [
    {
     "data": {
      "text/html": [
       "<div>\n",
       "<style scoped>\n",
       "    .dataframe tbody tr th:only-of-type {\n",
       "        vertical-align: middle;\n",
       "    }\n",
       "\n",
       "    .dataframe tbody tr th {\n",
       "        vertical-align: top;\n",
       "    }\n",
       "\n",
       "    .dataframe thead th {\n",
       "        text-align: right;\n",
       "    }\n",
       "</style>\n",
       "<table border=\"1\" class=\"dataframe\">\n",
       "  <thead>\n",
       "    <tr style=\"text-align: right;\">\n",
       "      <th></th>\n",
       "      <th>iso_code</th>\n",
       "      <th>continent</th>\n",
       "      <th>location</th>\n",
       "      <th>date</th>\n",
       "      <th>total_cases</th>\n",
       "      <th>new_cases</th>\n",
       "      <th>new_cases_smoothed</th>\n",
       "      <th>total_deaths</th>\n",
       "      <th>new_deaths</th>\n",
       "      <th>new_deaths_smoothed</th>\n",
       "      <th>...</th>\n",
       "      <th>gdp_per_capita</th>\n",
       "      <th>extreme_poverty</th>\n",
       "      <th>cardiovasc_death_rate</th>\n",
       "      <th>diabetes_prevalence</th>\n",
       "      <th>female_smokers</th>\n",
       "      <th>male_smokers</th>\n",
       "      <th>handwashing_facilities</th>\n",
       "      <th>hospital_beds_per_thousand</th>\n",
       "      <th>life_expectancy</th>\n",
       "      <th>human_development_index</th>\n",
       "    </tr>\n",
       "  </thead>\n",
       "  <tbody>\n",
       "  </tbody>\n",
       "</table>\n",
       "<p>0 rows × 59 columns</p>\n",
       "</div>"
      ],
      "text/plain": [
       "Empty DataFrame\n",
       "Columns: [iso_code, continent, location, date, total_cases, new_cases, new_cases_smoothed, total_deaths, new_deaths, new_deaths_smoothed, total_cases_per_million, new_cases_per_million, new_cases_smoothed_per_million, total_deaths_per_million, new_deaths_per_million, new_deaths_smoothed_per_million, reproduction_rate, icu_patients, icu_patients_per_million, hosp_patients, hosp_patients_per_million, weekly_icu_admissions, weekly_icu_admissions_per_million, weekly_hosp_admissions, weekly_hosp_admissions_per_million, new_tests, total_tests, total_tests_per_thousand, new_tests_per_thousand, new_tests_smoothed, new_tests_smoothed_per_thousand, positive_rate, tests_per_case, tests_units, total_vaccinations, people_vaccinated, people_fully_vaccinated, new_vaccinations, new_vaccinations_smoothed, total_vaccinations_per_hundred, people_vaccinated_per_hundred, people_fully_vaccinated_per_hundred, new_vaccinations_smoothed_per_million, stringency_index, population, population_density, median_age, aged_65_older, aged_70_older, gdp_per_capita, extreme_poverty, cardiovasc_death_rate, diabetes_prevalence, female_smokers, male_smokers, handwashing_facilities, hospital_beds_per_thousand, life_expectancy, human_development_index]\n",
       "Index: []\n",
       "\n",
       "[0 rows x 59 columns]"
      ]
     },
     "execution_count": 19,
     "metadata": {},
     "output_type": "execute_result"
    }
   ],
   "source": [
    "pt_df = df[df.location == \"Portugal\"].copy()\n",
    "pt_df.dropna()\n",
    "#pt_df.head(5)"
   ]
  },
  {
   "cell_type": "code",
   "execution_count": 20,
   "id": "6c5fa39b-5521-4a35-b2f3-2728fad89726",
   "metadata": {},
   "outputs": [],
   "source": [
    "pt_df[\"media7dias\"] = pt_df[\"new_cases\"].rolling(14).sum()\n",
    "fity2 = [0]*len(pt_df[\"media7dias\"])"
   ]
  },
  {
   "cell_type": "code",
   "execution_count": 21,
   "id": "bae6203a-629e-43f8-8053-10070f59f815",
   "metadata": {},
   "outputs": [],
   "source": [
    "pt_df.index = range(0, len(pt_df[\"location\"]), 1)\n",
    "pt_df.tail(1)\n",
    "\n",
    "for i in range(0, len(pt_df[\"media7dias\"])):\n",
    "    if(pt_df[\"media7dias\"][i]>0):\n",
    "        fity2[i] = math.log(pt_df[\"media7dias\"][i])"
   ]
  },
  {
   "cell_type": "code",
   "execution_count": 22,
   "id": "85e6d9cf-5dc0-4c13-8c71-7f4f58c8fa03",
   "metadata": {},
   "outputs": [
    {
     "name": "stdout",
     "output_type": "stream",
     "text": [
      "445\n"
     ]
    },
    {
     "data": {
      "image/png": "[encoded data removed]",
      "text/plain": [
       "<Figure size 432x288 with 1 Axes>"
      ]
     },
     "metadata": {
      "needs_background": "light"
     },
     "output_type": "display_data"
    }
   ],
   "source": [
    "pt_df.plot(\"date\", \"media7dias\")\n",
    "print(len(fity2))"
   ]
  },
  {
   "cell_type": "code",
   "execution_count": 43,
   "id": "9c23232c-1b47-45d3-a530-738b0cc737d9",
   "metadata": {},
   "outputs": [
    {
     "name": "stdout",
     "output_type": "stream",
     "text": [
      "[ 0.08919202 10.96497603]\n",
      "R0 = 2.2486883132399025\n",
      "[ 0.03857981 11.39972824]\n",
      "R02 = 1.5401172756016517\n",
      "[ 0.03251273 11.74163   ]\n",
      "R02 = 1.4551781967734245\n"
     ]
    },
    {
     "data": {
      "image/png": "[encoded data removed]",
      "text/plain": [
       "<Figure size 432x288 with 1 Axes>"
      ]
     },
     "metadata": {
      "needs_background": "light"
     },
     "output_type": "display_data"
    }
   ],
   "source": [
    "interval = np.linspace(0, 350-310, 350-310, endpoint = False)\n",
    "plt.scatter(interval, fity2[310:350])\n",
    "plt.title('ln dos infectados nos ultimos 14 dias')\n",
    "plt.xlabel('data')\n",
    "\n",
    "\n",
    "y = fity2[314:319]\n",
    "x = np.linspace(0, 319-314, 319-314, endpoint = False)\n",
    "fit = np.polyfit(x,y,1)\n",
    "print(fit)\n",
    "print('R0 =',fit[0]/(1/14)+1)\n",
    "plt.plot(x+4,np.poly1d(fit)(x),color=\"red\")\n",
    "\n",
    "z = fity2[319:325]\n",
    "w = np.linspace(0, 325-319, 325-319, endpoint = False)\n",
    "fit2 = np.polyfit(w,z,1)\n",
    "print(fit2)\n",
    "print('R02 =',fit2[0]/(1/14)+1)\n",
    "plt.plot(w+9,np.poly1d(fit2)(w),color=\"purple\")\n",
    "\n",
    "z = fity2[327:334]\n",
    "w = np.linspace(0, 334-327, 334-327, endpoint = False)\n",
    "fit2 = np.polyfit(w,z,1)\n",
    "print(fit2)\n",
    "print('R02 =',fit2[0]/(1/14)+1)\n",
    "plt.plot(w+17,np.poly1d(fit2)(w),color=\"green\")\n",
    "\n",
    "\n",
    "#plt.xticks(np.arange(0, 60, 12))\n",
    "plt.savefig('resultados_pt.png')\n",
    "plt.show()"
   ]
  },
  {
   "cell_type": "code",
   "execution_count": 24,
   "id": "92b99306-e834-4a7b-8821-aee5562f912b",
   "metadata": {},
   "outputs": [
    {
     "data": {
      "text/plain": [
       "<AxesSubplot:xlabel='date'>"
      ]
     },
     "execution_count": 24,
     "metadata": {},
     "output_type": "execute_result"
    },
    {
     "data": {
      "image/png": "[encoded data removed]",
      "text/plain": [
       "<Figure size 432x288 with 1 Axes>"
      ]
     },
     "metadata": {
      "needs_background": "light"
     },
     "output_type": "display_data"
    }
   ],
   "source": [
    "df[df.location == \"South Africa\"].plot(x=\"date\", y=\"new_cases\")"
   ]
  },
  {
   "cell_type": "code",
   "execution_count": 25,
   "id": "fe0a7842-b3f5-4903-ae27-18a4549d35bd",
   "metadata": {},
   "outputs": [
    {
     "data": {
      "text/html": [
       "<div>\n",
       "<style scoped>\n",
       "    .dataframe tbody tr th:only-of-type {\n",
       "        vertical-align: middle;\n",
       "    }\n",
       "\n",
       "    .dataframe tbody tr th {\n",
       "        vertical-align: top;\n",
       "    }\n",
       "\n",
       "    .dataframe thead th {\n",
       "        text-align: right;\n",
       "    }\n",
       "</style>\n",
       "<table border=\"1\" class=\"dataframe\">\n",
       "  <thead>\n",
       "    <tr style=\"text-align: right;\">\n",
       "      <th></th>\n",
       "      <th>iso_code</th>\n",
       "      <th>continent</th>\n",
       "      <th>location</th>\n",
       "      <th>date</th>\n",
       "      <th>total_cases</th>\n",
       "      <th>new_cases</th>\n",
       "      <th>new_cases_smoothed</th>\n",
       "      <th>total_deaths</th>\n",
       "      <th>new_deaths</th>\n",
       "      <th>new_deaths_smoothed</th>\n",
       "      <th>...</th>\n",
       "      <th>gdp_per_capita</th>\n",
       "      <th>extreme_poverty</th>\n",
       "      <th>cardiovasc_death_rate</th>\n",
       "      <th>diabetes_prevalence</th>\n",
       "      <th>female_smokers</th>\n",
       "      <th>male_smokers</th>\n",
       "      <th>handwashing_facilities</th>\n",
       "      <th>hospital_beds_per_thousand</th>\n",
       "      <th>life_expectancy</th>\n",
       "      <th>human_development_index</th>\n",
       "    </tr>\n",
       "  </thead>\n",
       "  <tbody>\n",
       "  </tbody>\n",
       "</table>\n",
       "<p>0 rows × 59 columns</p>\n",
       "</div>"
      ],
      "text/plain": [
       "Empty DataFrame\n",
       "Columns: [iso_code, continent, location, date, total_cases, new_cases, new_cases_smoothed, total_deaths, new_deaths, new_deaths_smoothed, total_cases_per_million, new_cases_per_million, new_cases_smoothed_per_million, total_deaths_per_million, new_deaths_per_million, new_deaths_smoothed_per_million, reproduction_rate, icu_patients, icu_patients_per_million, hosp_patients, hosp_patients_per_million, weekly_icu_admissions, weekly_icu_admissions_per_million, weekly_hosp_admissions, weekly_hosp_admissions_per_million, new_tests, total_tests, total_tests_per_thousand, new_tests_per_thousand, new_tests_smoothed, new_tests_smoothed_per_thousand, positive_rate, tests_per_case, tests_units, total_vaccinations, people_vaccinated, people_fully_vaccinated, new_vaccinations, new_vaccinations_smoothed, total_vaccinations_per_hundred, people_vaccinated_per_hundred, people_fully_vaccinated_per_hundred, new_vaccinations_smoothed_per_million, stringency_index, population, population_density, median_age, aged_65_older, aged_70_older, gdp_per_capita, extreme_poverty, cardiovasc_death_rate, diabetes_prevalence, female_smokers, male_smokers, handwashing_facilities, hospital_beds_per_thousand, life_expectancy, human_development_index]\n",
       "Index: []\n",
       "\n",
       "[0 rows x 59 columns]"
      ]
     },
     "execution_count": 25,
     "metadata": {},
     "output_type": "execute_result"
    }
   ],
   "source": [
    "sa_df = df[df.location == \"South Africa\"].copy()\n",
    "sa_df.dropna()"
   ]
  },
  {
   "cell_type": "code",
   "execution_count": 49,
   "id": "e1c8b1bb-0fa0-47d9-ae1e-9adbe0d7f7e0",
   "metadata": {},
   "outputs": [],
   "source": [
    "sa_df[\"media7dias\"] = sa_df[\"new_cases\"].rolling(14).sum()\n",
    "fity2 = [0]*len(sa_df[\"media7dias\"])"
   ]
  },
  {
   "cell_type": "code",
   "execution_count": 50,
   "id": "63bd85cf-6adb-41b1-bd39-64fbcc266ef0",
   "metadata": {},
   "outputs": [],
   "source": [
    "sa_df.index = range(0, len(sa_df[\"location\"]), 1)\n",
    "sa_df.tail(1)\n",
    "\n",
    "for i in range(0, len(sa_df[\"media7dias\"])):\n",
    "    if(sa_df[\"media7dias\"][i]>0):\n",
    "        fity2[i] = math.log(sa_df[\"media7dias\"][i])"
   ]
  },
  {
   "cell_type": "code",
   "execution_count": 51,
   "id": "ddbf73be-eda4-4057-8753-6db5b3ed6979",
   "metadata": {},
   "outputs": [
    {
     "name": "stdout",
     "output_type": "stream",
     "text": [
      "464\n"
     ]
    },
    {
     "data": {
      "image/png": "[encoded data removed]",
      "text/plain": [
       "<Figure size 432x288 with 1 Axes>"
      ]
     },
     "metadata": {
      "needs_background": "light"
     },
     "output_type": "display_data"
    }
   ],
   "source": [
    "sa_df.plot(\"date\", \"media7dias\")\n",
    "print(len(fity2))"
   ]
  },
  {
   "cell_type": "code",
   "execution_count": 56,
   "id": "98367ec7-3462-4fbb-8772-ca871dea2809",
   "metadata": {},
   "outputs": [
    {
     "name": "stdout",
     "output_type": "stream",
     "text": [
      "[ 0.07893374 10.80991711]\n",
      "R0 = 2.10507230923072\n",
      "[ 0.05239879 11.31804043]\n",
      "R02 = 1.7335830413038682\n"
     ]
    },
    {
     "data": {
      "image/png": "[encoded data removed]",
      "text/plain": [
       "<Figure size 432x288 with 1 Axes>"
      ]
     },
     "metadata": {
      "needs_background": "light"
     },
     "output_type": "display_data"
    }
   ],
   "source": [
    "interval = np.linspace(0, 350-300, 350-300, endpoint = False)\n",
    "plt.scatter(interval, fity2[300:350])\n",
    "plt.title('ln dos infectados nos ultimos 14 dias')\n",
    "plt.xlabel('data')\n",
    "\n",
    "\n",
    "y = fity2[305:311]\n",
    "x = np.linspace(0, 311-305, 311-305, endpoint = False)\n",
    "fit = np.polyfit(x,y,1)\n",
    "print(fit)\n",
    "print('R0 =',fit[0]/(1/14)+1)\n",
    "plt.plot(x+5,np.poly1d(fit)(x),color=\"red\")\n",
    "\n",
    "z = fity2[312:323]\n",
    "w = np.linspace(0, 323-312, 323-312, endpoint = False)\n",
    "fit2 = np.polyfit(w,z,1)\n",
    "print(fit2)\n",
    "print('R02 =',fit2[0]/(1/14)+1)\n",
    "plt.plot(w+12,np.poly1d(fit2)(w),color=\"purple\")\n",
    "\n",
    "#z = fity2[327:334]\n",
    "#w = np.linspace(0, 334-327, 334-327, endpoint = False)\n",
    "#fit2 = np.polyfit(w,z,1)\n",
    "#print(fit2)\n",
    "#print('R02 =',fit2[0]/(1/14)+1)\n",
    "#plt.plot(w+17,np.poly1d(fit2)(w),color=\"green\")\n",
    "\n",
    "\n",
    "#plt.xticks(np.arange(0, 60, 12))\n",
    "plt.savefig('resultados_sa.png')\n",
    "plt.show()"
   ]
  },
  {
   "cell_type": "code",
   "execution_count": null,
   "id": "f68c0e56-4c42-4a09-b82c-fed595f4f253",
   "metadata": {},
   "outputs": [],
   "source": []
  }
 ],
 "metadata": {
  "kernelspec": {
   "display_name": "Python 3",
   "language": "python",
   "name": "python3"
  },
  "language_info": {
   "codemirror_mode": {
    "name": "ipython",
    "version": 3
   },
   "file_extension": ".py",
   "mimetype": "text/x-python",
   "name": "python",
   "nbconvert_exporter": "python",
   "pygments_lexer": "ipython3",
   "version": "3.9.1"
  }
 },
 "nbformat": 4,
 "nbformat_minor": 5
}
